{
 "cells": [
  {
   "cell_type": "code",
   "execution_count": null,
   "id": "7f5373b5",
   "metadata": {},
   "outputs": [
    {
     "ename": "",
     "evalue": "",
     "output_type": "error",
     "traceback": [
      "\u001b[1;31mRunning cells with 'base (Python 3.13.5)' requires the ipykernel package.\n",
      "\u001b[1;31mInstall 'ipykernel' into the Python environment. \n",
      "\u001b[1;31mCommand: 'conda install -n base ipykernel --update-deps --force-reinstall'"
     ]
    }
   ],
   "source": [
    "import json\n",
    "import pandas as pd\n",
    "import matplotlib.pyplot as plt\n",
    "import numpy as np\n",
    "\n",
    "# Load your portfolio analysis results\n",
    "with open('my_portfolio_analysis.json', 'r') as f:\n",
    "    portfolio_data = json.load(f)\n",
    "\n",
    "print(\"Portfolio Analysis Dashboard\")\n",
    "print(\"=\" * 40)\n",
    "print(f\"Analysis Date: {portfolio_data['analysis_metadata']['analysis_date']}\")\n",
    "print(f\"Total Positions: {portfolio_data['analysis_metadata']['total_positions']}\")"
   ]
  },
  {
   "cell_type": "code",
   "execution_count": null,
   "id": "0322c270",
   "metadata": {},
   "outputs": [],
   "source": [
    "# Extract portfolio composition\n",
    "composition = pd.DataFrame(portfolio_data['portfolio_composition'])\n",
    "\n",
    "# Create pie chart of portfolio weights\n",
    "plt.figure(figsize=(10, 6))\n",
    "plt.pie(composition['Weight'], labels=composition['Ticker'], autopct='%1.1f%%')\n",
    "plt.title('Portfolio Composition by Weight')\n",
    "plt.show()"
   ]
  },
  {
   "cell_type": "code",
   "execution_count": null,
   "id": "0c003306",
   "metadata": {},
   "outputs": [],
   "source": [
    "# Extract risk metrics\n",
    "risk_metrics = portfolio_data.get('risk_analysis', {}).get('portfolio_metrics', {})\n",
    "\n",
    "if risk_metrics:\n",
    "    metrics = ['total_volatility_annualized', 'var_95_percent', 'sharpe_ratio']\n",
    "    values = [risk_metrics.get(m, 0) for m in metrics]\n",
    "    labels = ['Portfolio Volatility', 'VaR (95%)', 'Sharpe Ratio']\n",
    "    \n",
    "    plt.figure(figsize=(10, 6))\n",
    "    plt.bar(labels, values)\n",
    "    plt.title('Key Risk Metrics')\n",
    "    plt.ylabel('Value')\n",
    "    plt.show()"
   ]
  },
  {
   "cell_type": "code",
   "execution_count": null,
   "id": "f8e24751",
   "metadata": {},
   "outputs": [],
   "source": [
    "# Display key insights\n",
    "print(\"📊 Key Portfolio Insights:\")\n",
    "for insight in portfolio_data['summary']['key_insights']:\n",
    "    print(f\"• {insight}\")\n",
    "\n",
    "# Show risk metrics\n",
    "if 'risk_analysis' in portfolio_data:\n",
    "    print(f\"\\n⚠️ Risk Profile:\")\n",
    "    risk = portfolio_data['risk_analysis']['portfolio_metrics']\n",
    "    print(f\"• Portfolio Volatility: {risk.get('total_volatility_annualized', 'N/A'):.2%}\")\n",
    "    print(f\"• VaR (95%): {risk.get('var_95_percent', 'N/A'):.2%}\")"
   ]
  }
 ],
 "metadata": {
  "kernelspec": {
   "display_name": "base",
   "language": "python",
   "name": "python3"
  },
  "language_info": {
   "name": "python",
   "version": "3.13.5"
  }
 },
 "nbformat": 4,
 "nbformat_minor": 5
}
